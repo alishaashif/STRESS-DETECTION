{
 "cells": [
  {
   "cell_type": "code",
   "execution_count": 85,
   "id": "05b4c9c6",
   "metadata": {},
   "outputs": [
    {
     "name": "stdout",
     "output_type": "stream",
     "text": [
      "(2, 'Always', 'Always', 'Always', 'Always', 'Always', 'Always', 'Always', 'Always', 'Always', 'Always', 'Always', 'Always', 'Always', 'Always', 'Always', 'Always', 'Always', 'Always', 'Always', 'Always', 'HIGH STRESS')\n",
      "2\n"
     ]
    }
   ],
   "source": [
    "import pymysql\n",
    "sql=\"select * from surv\"\n",
    "data=getdata(sql)\n",
    "db = pymysql.connect(host='localhost',user=\"root\",password=\"\",database=\"depression\" )\n",
    "cur = db.cursor()\n",
    "cur.execute(sql)\n",
    "data = cur.fetchall()\n",
    "db.commit()\n",
    "cur.close()\n",
    "db.close()\n",
    "for r in data:\n",
    "    print(r)\n",
    "    print(r[0])"
   ]
  },
  {
   "cell_type": "code",
   "execution_count": 19,
   "id": "fca8d317",
   "metadata": {},
   "outputs": [],
   "source": [
    "def getdata(sql):\n",
    "    db = pymysql.connect(host='localhost',user=\"root\",password=\"\",database=\"depression\" )\n",
    "    cur = db.cursor()\n",
    "    cur.execute(sql)\n",
    "    data = cur.fetchall()\n",
    "    db.commit()\n",
    "    cur.close()\n",
    "    db.close()\n",
    "    return data"
   ]
  },
  {
   "cell_type": "code",
   "execution_count": null,
   "id": "6f9228bc",
   "metadata": {},
   "outputs": [],
   "source": []
  }
 ],
 "metadata": {
  "kernelspec": {
   "display_name": "Python 3 (ipykernel)",
   "language": "python",
   "name": "python3"
  },
  "language_info": {
   "codemirror_mode": {
    "name": "ipython",
    "version": 3
   },
   "file_extension": ".py",
   "mimetype": "text/x-python",
   "name": "python",
   "nbconvert_exporter": "python",
   "pygments_lexer": "ipython3",
   "version": "3.7.13"
  }
 },
 "nbformat": 4,
 "nbformat_minor": 5
}
